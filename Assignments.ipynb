{
  "nbformat": 4,
  "nbformat_minor": 0,
  "metadata": {
    "colab": {
      "provenance": [],
      "authorship_tag": "ABX9TyPn5xxl+huzcRmJrhbBDV8p",
      "include_colab_link": true
    },
    "kernelspec": {
      "name": "python3",
      "display_name": "Python 3"
    },
    "language_info": {
      "name": "python"
    }
  },
  "cells": [
    {
      "cell_type": "markdown",
      "metadata": {
        "id": "view-in-github",
        "colab_type": "text"
      },
      "source": [
        "<a href=\"https://colab.research.google.com/github/Adityajeegari/23CSBTB39-40/blob/main/Assignments.ipynb\" target=\"_parent\"><img src=\"https://colab.research.google.com/assets/colab-badge.svg\" alt=\"Open In Colab\"/></a>"
      ]
    },
    {
      "cell_type": "code",
      "execution_count": null,
      "metadata": {
        "colab": {
          "base_uri": "https://localhost:8080/"
        },
        "id": "tDPjS7ELAK60",
        "outputId": "741a7f04-c7a9-4c88-c2b6-107ea1f6bd89"
      },
      "outputs": [
        {
          "output_type": "stream",
          "name": "stdout",
          "text": [
            "List 1: [1, 2, 3, 4, 5]\n",
            "List 2: [6, 7, 8, 9, 10]\n",
            "Array 1: [1 2 3 4 5]\n",
            "Array 2: [ 6  7  8  9 10]\n",
            "Type of list1: <class 'list'>\n",
            "Type of array1: <class 'numpy.ndarray'>\n",
            "Multiplication of arrays: [ 6 14 24 36 50]\n",
            "Division of arrays: [0.16666667 0.28571429 0.375      0.44444444 0.5       ]\n",
            "Power of array1: [ 1  4  9 16 25]\n",
            "Addition of arrays: [ 7  9 11 13 15]\n",
            "[ 0.84147098  0.90929743  0.14112001 -0.7568025  -0.95892427]\n",
            "[0.         0.69314718 1.09861229 1.38629436 1.60943791]\n",
            "[0.         1.         1.5849625  2.         2.32192809]\n",
            "[  2.71828183   7.3890561   20.08553692  54.59815003 148.4131591 ]\n"
          ]
        }
      ],
      "source": [
        "import numpy as np\n",
        "import pandas as pd\n",
        "\n",
        "list1 = [1, 2, 3, 4, 5]\n",
        "list2 = [6, 7, 8, 9, 10]\n",
        "\n",
        "print(\"List 1:\", list1)\n",
        "print(\"List 2:\", list2)\n",
        "\n",
        "array1 = np.array(list1)\n",
        "array2 = np.array(list2)\n",
        "\n",
        "print(\"Array 1:\", array1)\n",
        "print(\"Array 2:\", array2)\n",
        "\n",
        "print(\"Type of list1:\", type(list1))\n",
        "print(\"Type of array1:\", type(array1))\n",
        "\n",
        "multiplication = array1 * array2\n",
        "print(\"Multiplication of arrays:\", multiplication)\n",
        "\n",
        "division = array1 / array2\n",
        "print(\"Division of arrays:\", division)\n",
        "\n",
        "power = np.power(array1, 2)\n",
        "print(\"Power of array1:\", power)\n",
        "\n",
        "addition = array1 + array2\n",
        "print(\"Addition of arrays:\",addition)\n",
        "\n",
        "sin_values = np.sin(array1)\n",
        "print(sin_values)\n",
        "\n",
        "log_values = np.log(array1)\n",
        "print(log_values)\n",
        "\n",
        "log2_values = np.log2(array1)\n",
        "print(log2_values)\n",
        "\n",
        "exp_values = np.exp(array1)\n",
        "print(exp_values)\n"
      ]
    }
  ]
}